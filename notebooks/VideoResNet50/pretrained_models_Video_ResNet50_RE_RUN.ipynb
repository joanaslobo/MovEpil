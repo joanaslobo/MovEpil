{
 "cells": [
  {
   "cell_type": "code",
   "execution_count": 1,
   "id": "initial_id",
   "metadata": {
    "collapsed": true,
    "ExecuteTime": {
     "end_time": "2024-05-16T14:15:45.056508Z",
     "start_time": "2024-05-16T14:15:43.454186Z"
    }
   },
   "outputs": [],
   "source": [
    "import gc\n",
    "import torch.utils.data\n",
    "from utils.data import get_data_split\n",
    "from utils.models import create_video_ResNet\n",
    "from utils.trainner import train_silence\n",
    "from utils.model_performance import plot_losses, get_predictions, calculate_metrics"
   ]
  },
  {
   "cell_type": "markdown",
   "source": [
    "# Config data"
   ],
   "metadata": {
    "collapsed": false
   },
   "id": "f7c05b4c875c18df"
  },
  {
   "cell_type": "code",
   "outputs": [],
   "source": [
    "EPOCHS = 100\n",
    "BATCH_SIZE = 4\n",
    "TRANSFER_LEARNING_RATE = 3e-3\n",
    "DEVICE = torch.device(\"cuda\" if torch.cuda else \"cpu\")\n",
    "DEVICE = torch.device(\"mps\" if torch.backends.mps.is_available() else \"cpu\")"
   ],
   "metadata": {
    "collapsed": false,
    "ExecuteTime": {
     "end_time": "2024-05-16T14:15:45.070073Z",
     "start_time": "2024-05-16T14:15:45.057849Z"
    }
   },
   "id": "6c9bf9fbd69cf97a",
   "execution_count": 2
  },
  {
   "cell_type": "markdown",
   "source": [
    "# Load data"
   ],
   "metadata": {
    "collapsed": false
   },
   "id": "f065d1e23025f23c"
  },
  {
   "cell_type": "code",
   "outputs": [],
   "source": [
    "train_dataset, val_dataset, test_dataset, label_dict = get_data_split(base_path=\"../../../datasets/ucf-101-Sampled-10-clases\", batch_size=BATCH_SIZE, seq_lenght=64, num_workers=0)"
   ],
   "metadata": {
    "collapsed": false,
    "ExecuteTime": {
     "end_time": "2024-05-16T14:15:45.077913Z",
     "start_time": "2024-05-16T14:15:45.071205Z"
    }
   },
   "id": "3a41dc4a83ecfb8f",
   "execution_count": 3
  },
  {
   "cell_type": "code",
   "outputs": [
    {
     "data": {
      "text/plain": "{0: 'BalanceBeam',\n 1: 'BaseballPitch',\n 2: 'Bowling',\n 3: 'Basketball',\n 4: 'BandMarching',\n 5: 'BabyCrawling',\n 6: 'ApplyEyeMakeup',\n 7: 'BodyWeightSquats',\n 8: 'Archery',\n 9: 'ApplyLipstick'}"
     },
     "execution_count": 4,
     "metadata": {},
     "output_type": "execute_result"
    }
   ],
   "source": [
    "label_dict"
   ],
   "metadata": {
    "collapsed": false,
    "ExecuteTime": {
     "end_time": "2024-05-16T14:15:45.082620Z",
     "start_time": "2024-05-16T14:15:45.079084Z"
    }
   },
   "id": "df3a5bb5abe1d55a",
   "execution_count": 4
  },
  {
   "cell_type": "code",
   "outputs": [
    {
     "name": "stderr",
     "output_type": "stream",
     "text": [
      "/Users/matiasgonzalez/miniforge3/envs/MovEpil/lib/python3.9/site-packages/torchvision/io/video.py:161: UserWarning: The pts_unit 'pts' gives wrong results. Please use pts_unit 'sec'.\n",
      "  warnings.warn(\"The pts_unit 'pts' gives wrong results. Please use pts_unit 'sec'.\")\n",
      "/Users/matiasgonzalez/miniforge3/envs/MovEpil/lib/python3.9/site-packages/torchvision/io/video.py:161: UserWarning: The pts_unit 'pts' gives wrong results. Please use pts_unit 'sec'.\n",
      "  warnings.warn(\"The pts_unit 'pts' gives wrong results. Please use pts_unit 'sec'.\")\n",
      "/Users/matiasgonzalez/miniforge3/envs/MovEpil/lib/python3.9/site-packages/torchvision/io/video.py:161: UserWarning: The pts_unit 'pts' gives wrong results. Please use pts_unit 'sec'.\n",
      "  warnings.warn(\"The pts_unit 'pts' gives wrong results. Please use pts_unit 'sec'.\")\n",
      "/Users/matiasgonzalez/miniforge3/envs/MovEpil/lib/python3.9/site-packages/torchvision/io/video.py:161: UserWarning: The pts_unit 'pts' gives wrong results. Please use pts_unit 'sec'.\n",
      "  warnings.warn(\"The pts_unit 'pts' gives wrong results. Please use pts_unit 'sec'.\")\n",
      "/Users/matiasgonzalez/miniforge3/envs/MovEpil/lib/python3.9/site-packages/torchvision/io/video.py:161: UserWarning: The pts_unit 'pts' gives wrong results. Please use pts_unit 'sec'.\n",
      "  warnings.warn(\"The pts_unit 'pts' gives wrong results. Please use pts_unit 'sec'.\")\n",
      "/Users/matiasgonzalez/miniforge3/envs/MovEpil/lib/python3.9/site-packages/torchvision/io/video.py:161: UserWarning: The pts_unit 'pts' gives wrong results. Please use pts_unit 'sec'.\n",
      "  warnings.warn(\"The pts_unit 'pts' gives wrong results. Please use pts_unit 'sec'.\")\n",
      "/Users/matiasgonzalez/miniforge3/envs/MovEpil/lib/python3.9/site-packages/torchvision/io/video.py:161: UserWarning: The pts_unit 'pts' gives wrong results. Please use pts_unit 'sec'.\n",
      "  warnings.warn(\"The pts_unit 'pts' gives wrong results. Please use pts_unit 'sec'.\")\n"
     ]
    },
    {
     "data": {
      "text/plain": "torch.Size([4, 64, 3, 240, 320])"
     },
     "execution_count": 5,
     "metadata": {},
     "output_type": "execute_result"
    }
   ],
   "source": [
    "next(iter(train_dataset))[0].shape"
   ],
   "metadata": {
    "collapsed": false,
    "ExecuteTime": {
     "end_time": "2024-05-16T14:15:53.824954Z",
     "start_time": "2024-05-16T14:15:45.083353Z"
    }
   },
   "id": "f764529a62dea214",
   "execution_count": 5
  },
  {
   "cell_type": "markdown",
   "source": [
    "# Transfer Learning"
   ],
   "metadata": {
    "collapsed": false
   },
   "id": "6909bfc652252dcb"
  },
  {
   "cell_type": "code",
   "outputs": [
    {
     "data": {
      "text/plain": "  0%|          | 0/100 [00:00<?, ?it/s]",
      "application/vnd.jupyter.widget-view+json": {
       "version_major": 2,
       "version_minor": 0,
       "model_id": "cf76b52595624d9fbd6b19de2ed0499d"
      }
     },
     "metadata": {},
     "output_type": "display_data"
    },
    {
     "name": "stderr",
     "output_type": "stream",
     "text": [
      "/Users/matiasgonzalez/miniforge3/envs/MovEpil/lib/python3.9/site-packages/torchvision/io/video.py:161: UserWarning: The pts_unit 'pts' gives wrong results. Please use pts_unit 'sec'.\n",
      "  warnings.warn(\"The pts_unit 'pts' gives wrong results. Please use pts_unit 'sec'.\")\n",
      "/Users/matiasgonzalez/miniforge3/envs/MovEpil/lib/python3.9/site-packages/torchvision/io/video.py:161: UserWarning: The pts_unit 'pts' gives wrong results. Please use pts_unit 'sec'.\n",
      "  warnings.warn(\"The pts_unit 'pts' gives wrong results. Please use pts_unit 'sec'.\")\n",
      "/Users/matiasgonzalez/miniforge3/envs/MovEpil/lib/python3.9/site-packages/torchvision/io/video.py:161: UserWarning: The pts_unit 'pts' gives wrong results. Please use pts_unit 'sec'.\n",
      "  warnings.warn(\"The pts_unit 'pts' gives wrong results. Please use pts_unit 'sec'.\")\n",
      "/Users/matiasgonzalez/miniforge3/envs/MovEpil/lib/python3.9/site-packages/torchvision/io/video.py:161: UserWarning: The pts_unit 'pts' gives wrong results. Please use pts_unit 'sec'.\n",
      "  warnings.warn(\"The pts_unit 'pts' gives wrong results. Please use pts_unit 'sec'.\")\n",
      "/Users/matiasgonzalez/miniforge3/envs/MovEpil/lib/python3.9/site-packages/torchvision/io/video.py:161: UserWarning: The pts_unit 'pts' gives wrong results. Please use pts_unit 'sec'.\n",
      "  warnings.warn(\"The pts_unit 'pts' gives wrong results. Please use pts_unit 'sec'.\")\n",
      "/Users/matiasgonzalez/miniforge3/envs/MovEpil/lib/python3.9/site-packages/torchvision/io/video.py:161: UserWarning: The pts_unit 'pts' gives wrong results. Please use pts_unit 'sec'.\n",
      "  warnings.warn(\"The pts_unit 'pts' gives wrong results. Please use pts_unit 'sec'.\")\n",
      "/Users/matiasgonzalez/miniforge3/envs/MovEpil/lib/python3.9/site-packages/torchvision/io/video.py:161: UserWarning: The pts_unit 'pts' gives wrong results. Please use pts_unit 'sec'.\n",
      "  warnings.warn(\"The pts_unit 'pts' gives wrong results. Please use pts_unit 'sec'.\")\n",
      "/Users/matiasgonzalez/miniforge3/envs/MovEpil/lib/python3.9/site-packages/torchvision/io/video.py:161: UserWarning: The pts_unit 'pts' gives wrong results. Please use pts_unit 'sec'.\n",
      "  warnings.warn(\"The pts_unit 'pts' gives wrong results. Please use pts_unit 'sec'.\")\n"
     ]
    }
   ],
   "source": [
    "model, preprocess = create_video_ResNet(n_classes=len(label_dict), device=DEVICE)\n",
    "\n",
    "model.requires_grad = False\n",
    "model.fc.requires_grad = True\n",
    "\n",
    "criterion = torch.nn.CrossEntropyLoss()\n",
    "optimizer = torch.optim.Adam(model.parameters(), lr=TRANSFER_LEARNING_RATE)\n",
    "\n",
    "train_loss, val_loss = train_silence(model=model, train_dataset=train_dataset, val_dataset=val_dataset, preprocess=preprocess, device=DEVICE, criterion=criterion, optimizer=optimizer, epochs=EPOCHS, num_classes=len(label_dict))\n",
    "\n",
    "y_pred, y = get_predictions(model=model, dataloader=test_dataset, preprocess=preprocess, device=DEVICE)\n",
    "\n",
    "plot_losses(train_loss, val_loss)\n",
    "calculate_metrics(y, y_pred, labels=[v for k,v in label_dict.items()])\n"
   ],
   "metadata": {
    "collapsed": false,
    "is_executing": true,
    "ExecuteTime": {
     "start_time": "2024-05-16T14:16:06.163980Z"
    }
   },
   "id": "40b5ba09b321d8ee",
   "execution_count": null
  },
  {
   "cell_type": "code",
   "outputs": [],
   "source": [],
   "metadata": {
    "collapsed": false
   },
   "id": "4836ae7454ca628d"
  }
 ],
 "metadata": {
  "kernelspec": {
   "display_name": "Python 3",
   "language": "python",
   "name": "python3"
  },
  "language_info": {
   "codemirror_mode": {
    "name": "ipython",
    "version": 2
   },
   "file_extension": ".py",
   "mimetype": "text/x-python",
   "name": "python",
   "nbconvert_exporter": "python",
   "pygments_lexer": "ipython2",
   "version": "2.7.6"
  }
 },
 "nbformat": 4,
 "nbformat_minor": 5
}
