{
 "cells": [
  {
   "cell_type": "code",
   "execution_count": null,
   "id": "initial_id",
   "metadata": {
    "collapsed": true
   },
   "outputs": [],
   "source": [
    "import torch.utils.data\n",
    "from utils.data import get_data_split\n",
    "from utils.models import create_video_ResNet\n",
    "from utils.trainner import train_silence\n",
    "from utils.model_performance import plot_losses, get_predictions, calculate_metrics"
   ]
  },
  {
   "cell_type": "markdown",
   "source": [
    "# Config data"
   ],
   "metadata": {
    "collapsed": false
   },
   "id": "f7c05b4c875c18df"
  },
  {
   "cell_type": "code",
   "outputs": [],
   "source": [
    "BASE_PATH = \"../../../datasets/ucf-101-Sampled-10-clases\"\n",
    "EPOCHS = 100\n",
    "BATCH_SIZE = 4\n",
    "TRANSFER_LEARNING_RATE = 3e-3\n",
    "DEVICE = torch.device(\"cuda\" if torch.cuda else \"cpu\")\n",
    "DEVICE = torch.device(\"mps\" if torch.backends.mps.is_available() else \"cpu\")"
   ],
   "metadata": {
    "collapsed": false
   },
   "id": "6c9bf9fbd69cf97a",
   "execution_count": null
  },
  {
   "cell_type": "markdown",
   "source": [
    "# Load data"
   ],
   "metadata": {
    "collapsed": false
   },
   "id": "f065d1e23025f23c"
  },
  {
   "cell_type": "code",
   "outputs": [],
   "source": [
    "train_dataset, val_dataset, test_dataset, label_dict = get_data_split(base_path=BASE_PATH, batch_size=BATCH_SIZE, seq_lenght=60, num_workers=4)"
   ],
   "metadata": {
    "collapsed": false
   },
   "id": "3a41dc4a83ecfb8f",
   "execution_count": null
  },
  {
   "cell_type": "code",
   "outputs": [],
   "source": [
    "label_dict"
   ],
   "metadata": {
    "collapsed": false
   },
   "id": "df3a5bb5abe1d55a",
   "execution_count": null
  },
  {
   "cell_type": "markdown",
   "source": [
    "# Transfer Learning"
   ],
   "metadata": {
    "collapsed": false
   },
   "id": "6909bfc652252dcb"
  },
  {
   "cell_type": "code",
   "outputs": [],
   "source": [
    "model, preprocess = create_video_ResNet(n_classes=len(label_dict), device=DEVICE)\n",
    "\n",
    "model.requires_grad = False\n",
    "model.fc.requires_grad = True\n",
    "\n",
    "criterion = torch.nn.CrossEntropyLoss()\n",
    "optimizer = torch.optim.Adam(model.parameters(), lr=TRANSFER_LEARNING_RATE)\n",
    "\n",
    "train_loss, val_loss = train_silence(model=model, train_dataset=train_dataset, val_dataset=val_dataset, preprocess=preprocess, device=DEVICE, criterion=criterion, optimizer=optimizer, epochs=EPOCHS, num_classes=len(label_dict))\n",
    "\n",
    "# load the best weights.\n",
    "y_pred, y = get_predictions(model=model, dataloader=test_dataset, preprocess=preprocess, device=DEVICE)\n",
    "\n",
    "plot_losses(train_loss, val_loss)\n",
    "calculate_metrics(y, y_pred, labels=[v for k,v in label_dict.items()])"
   ],
   "metadata": {
    "collapsed": false
   },
   "id": "40b5ba09b321d8ee",
   "execution_count": null
  }
 ],
 "metadata": {
  "kernelspec": {
   "display_name": "Python 3",
   "language": "python",
   "name": "python3"
  },
  "language_info": {
   "codemirror_mode": {
    "name": "ipython",
    "version": 2
   },
   "file_extension": ".py",
   "mimetype": "text/x-python",
   "name": "python",
   "nbconvert_exporter": "python",
   "pygments_lexer": "ipython2",
   "version": "2.7.6"
  }
 },
 "nbformat": 4,
 "nbformat_minor": 5
}
